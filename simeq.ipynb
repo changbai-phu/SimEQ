{
 "cells": [
  {
   "cell_type": "code",
   "execution_count": 1,
   "id": "6c25f3e6",
   "metadata": {
    "_cell_guid": "b1076dfc-b9ad-4769-8c92-a6c4dae69d19",
    "_uuid": "8f2839f25d086af736a60e9eeb907d3b93b6e0e5",
    "execution": {
     "iopub.execute_input": "2025-04-19T15:44:35.608582Z",
     "iopub.status.busy": "2025-04-19T15:44:35.608272Z",
     "iopub.status.idle": "2025-04-19T15:44:37.524241Z",
     "shell.execute_reply": "2025-04-19T15:44:37.523317Z"
    },
    "papermill": {
     "duration": 1.925885,
     "end_time": "2025-04-19T15:44:37.526036",
     "exception": false,
     "start_time": "2025-04-19T15:44:35.600151",
     "status": "completed"
    },
    "tags": []
   },
   "outputs": [],
   "source": [
    "# This Python 3 environment comes with many helpful analytics libraries installed\n",
    "# It is defined by the kaggle/python Docker image: https://github.com/kaggle/docker-python\n",
    "# For example, here's several helpful packages to load\n",
    "\n",
    "import numpy as np # linear algebra\n",
    "import pandas as pd # data processing, CSV file I/O (e.g. pd.read_csv)\n",
    "\n",
    "# Input data files are available in the read-only \"../input/\" directory\n",
    "# For example, running this (by clicking run or pressing Shift+Enter) will list all files under the input directory\n",
    "\n",
    "import os\n",
    "for dirname, _, filenames in os.walk('/kaggle/input'):\n",
    "    for filename in filenames:\n",
    "        print(os.path.join(dirname, filename))\n",
    "\n",
    "# You can write up to 20GB to the current directory (/kaggle/working/) that gets preserved as output when you create a version using \"Save & Run All\" \n",
    "# You can also write temporary files to /kaggle/temp/, but they won't be saved outside of the current session"
   ]
  },
  {
   "cell_type": "markdown",
   "id": "b510fea3",
   "metadata": {
    "papermill": {
     "duration": 0.00717,
     "end_time": "2025-04-19T15:44:37.540009",
     "exception": false,
     "start_time": "2025-04-19T15:44:37.532839",
     "status": "completed"
    },
    "tags": []
   },
   "source": [
    "# Capstone Project - SimEQ: Earthquake Crisis Response Simulation\n",
    "This notebook simulates a GenAI-powered assistant that can:\n",
    "1. Generate realistic earthquake scenarios using a disaster report (Document understanding)\n",
    "2. Evaluate simulated responses (Gen AI Evaluation)\n",
    "3. Simulate social media crisis messages (Few-shot prompting)\n",
    "4. Analyze uploaded reports (Document Understanding, RAG, Embeddings, Vector Database)\n",
    "5. Generate structured crisis response plans (Structured output/JSON mode)"
   ]
  },
  {
   "cell_type": "code",
   "execution_count": 2,
   "id": "264947a1",
   "metadata": {
    "execution": {
     "iopub.execute_input": "2025-04-19T15:44:37.556764Z",
     "iopub.status.busy": "2025-04-19T15:44:37.556321Z",
     "iopub.status.idle": "2025-04-19T15:45:20.977225Z",
     "shell.execute_reply": "2025-04-19T15:45:20.976091Z"
    },
    "papermill": {
     "duration": 43.430026,
     "end_time": "2025-04-19T15:45:20.978914",
     "exception": false,
     "start_time": "2025-04-19T15:44:37.548888",
     "status": "completed"
    },
    "tags": []
   },
   "outputs": [
    {
     "name": "stdout",
     "output_type": "stream",
     "text": [
      "\u001b[33mWARNING: Skipping kfp as it is not installed.\u001b[0m\u001b[33m\r\n",
      "\u001b[2K     \u001b[90m━━━━━━━━━━━━━━━━━━━━━━━━━━━━━━━━━━━━━━━━\u001b[0m \u001b[32m67.3/67.3 kB\u001b[0m \u001b[31m3.1 MB/s\u001b[0m eta \u001b[36m0:00:00\u001b[0m\r\n",
      "\u001b[?25h  Installing build dependencies ... \u001b[?25l\u001b[?25hdone\r\n",
      "  Getting requirements to build wheel ... \u001b[?25l\u001b[?25hdone\r\n",
      "  Preparing metadata (pyproject.toml) ... \u001b[?25l\u001b[?25hdone\r\n",
      "\u001b[2K   \u001b[90m━━━━━━━━━━━━━━━━━━━━━━━━━━━━━━━━━━━━━━━━\u001b[0m \u001b[32m144.7/144.7 kB\u001b[0m \u001b[31m5.5 MB/s\u001b[0m eta \u001b[36m0:00:00\u001b[0m\r\n",
      "\u001b[2K   \u001b[90m━━━━━━━━━━━━━━━━━━━━━━━━━━━━━━━━━━━━━━━━\u001b[0m \u001b[32m611.1/611.1 kB\u001b[0m \u001b[31m19.8 MB/s\u001b[0m eta \u001b[36m0:00:00\u001b[0m\r\n",
      "\u001b[2K   \u001b[90m━━━━━━━━━━━━━━━━━━━━━━━━━━━━━━━━━━━━━━━━\u001b[0m \u001b[32m2.4/2.4 MB\u001b[0m \u001b[31m56.5 MB/s\u001b[0m eta \u001b[36m0:00:00\u001b[0m\r\n",
      "\u001b[2K   \u001b[90m━━━━━━━━━━━━━━━━━━━━━━━━━━━━━━━━━━━━━━━━\u001b[0m \u001b[32m100.9/100.9 kB\u001b[0m \u001b[31m5.1 MB/s\u001b[0m eta \u001b[36m0:00:00\u001b[0m\r\n",
      "\u001b[2K   \u001b[90m━━━━━━━━━━━━━━━━━━━━━━━━━━━━━━━━━━━━━━━━\u001b[0m \u001b[32m284.2/284.2 kB\u001b[0m \u001b[31m13.6 MB/s\u001b[0m eta \u001b[36m0:00:00\u001b[0m\r\n",
      "\u001b[2K   \u001b[90m━━━━━━━━━━━━━━━━━━━━━━━━━━━━━━━━━━━━━━━━\u001b[0m \u001b[32m95.2/95.2 kB\u001b[0m \u001b[31m5.9 MB/s\u001b[0m eta \u001b[36m0:00:00\u001b[0m\r\n",
      "\u001b[2K   \u001b[90m━━━━━━━━━━━━━━━━━━━━━━━━━━━━━━━━━━━━━━━━\u001b[0m \u001b[32m2.0/2.0 MB\u001b[0m \u001b[31m63.2 MB/s\u001b[0m eta \u001b[36m0:00:00\u001b[0m\r\n",
      "\u001b[2K   \u001b[90m━━━━━━━━━━━━━━━━━━━━━━━━━━━━━━━━━━━━━━━━\u001b[0m \u001b[32m101.6/101.6 kB\u001b[0m \u001b[31m5.2 MB/s\u001b[0m eta \u001b[36m0:00:00\u001b[0m\r\n",
      "\u001b[2K   \u001b[90m━━━━━━━━━━━━━━━━━━━━━━━━━━━━━━━━━━━━━━━━\u001b[0m \u001b[32m16.0/16.0 MB\u001b[0m \u001b[31m81.7 MB/s\u001b[0m eta \u001b[36m0:00:00\u001b[0m\r\n",
      "\u001b[2K   \u001b[90m━━━━━━━━━━━━━━━━━━━━━━━━━━━━━━━━━━━━━━━━\u001b[0m \u001b[32m55.9/55.9 kB\u001b[0m \u001b[31m3.5 MB/s\u001b[0m eta \u001b[36m0:00:00\u001b[0m\r\n",
      "\u001b[2K   \u001b[90m━━━━━━━━━━━━━━━━━━━━━━━━━━━━━━━━━━━━━━━━\u001b[0m \u001b[32m188.4/188.4 kB\u001b[0m \u001b[31m10.6 MB/s\u001b[0m eta \u001b[36m0:00:00\u001b[0m\r\n",
      "\u001b[2K   \u001b[90m━━━━━━━━━━━━━━━━━━━━━━━━━━━━━━━━━━━━━━━━\u001b[0m \u001b[32m65.3/65.3 kB\u001b[0m \u001b[31m3.5 MB/s\u001b[0m eta \u001b[36m0:00:00\u001b[0m\r\n",
      "\u001b[2K   \u001b[90m━━━━━━━━━━━━━━━━━━━━━━━━━━━━━━━━━━━━━━━━\u001b[0m \u001b[32m119.0/119.0 kB\u001b[0m \u001b[31m6.5 MB/s\u001b[0m eta \u001b[36m0:00:00\u001b[0m\r\n",
      "\u001b[2K   \u001b[90m━━━━━━━━━━━━━━━━━━━━━━━━━━━━━━━━━━━━━━━━\u001b[0m \u001b[32m89.1/89.1 kB\u001b[0m \u001b[31m5.5 MB/s\u001b[0m eta \u001b[36m0:00:00\u001b[0m\r\n",
      "\u001b[2K   \u001b[90m━━━━━━━━━━━━━━━━━━━━━━━━━━━━━━━━━━━━━━━━\u001b[0m \u001b[32m62.5/62.5 kB\u001b[0m \u001b[31m3.4 MB/s\u001b[0m eta \u001b[36m0:00:00\u001b[0m\r\n",
      "\u001b[2K   \u001b[90m━━━━━━━━━━━━━━━━━━━━━━━━━━━━━━━━━━━━━━━━\u001b[0m \u001b[32m459.8/459.8 kB\u001b[0m \u001b[31m23.3 MB/s\u001b[0m eta \u001b[36m0:00:00\u001b[0m\r\n",
      "\u001b[2K   \u001b[90m━━━━━━━━━━━━━━━━━━━━━━━━━━━━━━━━━━━━━━━━\u001b[0m \u001b[32m319.7/319.7 kB\u001b[0m \u001b[31m17.2 MB/s\u001b[0m eta \u001b[36m0:00:00\u001b[0m\r\n",
      "\u001b[2K   \u001b[90m━━━━━━━━━━━━━━━━━━━━━━━━━━━━━━━━━━━━━━━━\u001b[0m \u001b[32m72.0/72.0 kB\u001b[0m \u001b[31m3.9 MB/s\u001b[0m eta \u001b[36m0:00:00\u001b[0m\r\n",
      "\u001b[2K   \u001b[90m━━━━━━━━━━━━━━━━━━━━━━━━━━━━━━━━━━━━━━━━\u001b[0m \u001b[32m4.0/4.0 MB\u001b[0m \u001b[31m79.0 MB/s\u001b[0m eta \u001b[36m0:00:00\u001b[0m\r\n",
      "\u001b[2K   \u001b[90m━━━━━━━━━━━━━━━━━━━━━━━━━━━━━━━━━━━━━━━━\u001b[0m \u001b[32m454.8/454.8 kB\u001b[0m \u001b[31m23.6 MB/s\u001b[0m eta \u001b[36m0:00:00\u001b[0m\r\n",
      "\u001b[2K   \u001b[90m━━━━━━━━━━━━━━━━━━━━━━━━━━━━━━━━━━━━━━━━\u001b[0m \u001b[32m46.0/46.0 kB\u001b[0m \u001b[31m2.7 MB/s\u001b[0m eta \u001b[36m0:00:00\u001b[0m\r\n",
      "\u001b[2K   \u001b[90m━━━━━━━━━━━━━━━━━━━━━━━━━━━━━━━━━━━━━━━━\u001b[0m \u001b[32m86.8/86.8 kB\u001b[0m \u001b[31m5.4 MB/s\u001b[0m eta \u001b[36m0:00:00\u001b[0m\r\n",
      "\u001b[?25h  Building wheel for pypika (pyproject.toml) ... \u001b[?25l\u001b[?25hdone\r\n",
      "\u001b[31mERROR: pip's dependency resolver does not currently take into account all the packages that are installed. This behaviour is the source of the following dependency conflicts.\r\n",
      "jupyterlab-lsp 3.10.2 requires jupyterlab<4.0.0a0,>=3.1.0, which is not installed.\r\n",
      "google-cloud-translate 3.12.1 requires protobuf!=3.20.0,!=3.20.1,!=4.21.0,!=4.21.1,!=4.21.2,!=4.21.3,!=4.21.4,!=4.21.5,<5.0.0dev,>=3.19.5, but you have protobuf 5.29.4 which is incompatible.\r\n",
      "google-api-core 1.34.1 requires protobuf!=3.20.0,!=3.20.1,!=4.21.0,!=4.21.1,!=4.21.2,!=4.21.3,!=4.21.4,!=4.21.5,<4.0.0dev,>=3.19.5, but you have protobuf 5.29.4 which is incompatible.\r\n",
      "google-spark-connect 0.5.2 requires google-api-core>=2.19.1, but you have google-api-core 1.34.1 which is incompatible.\r\n",
      "pandas-gbq 0.26.1 requires google-api-core<3.0.0dev,>=2.10.2, but you have google-api-core 1.34.1 which is incompatible.\r\n",
      "bigframes 1.36.0 requires rich<14,>=12.4.4, but you have rich 14.0.0 which is incompatible.\r\n",
      "google-cloud-bigtable 2.28.1 requires google-api-core[grpc]<3.0.0dev,>=2.16.0, but you have google-api-core 1.34.1 which is incompatible.\u001b[0m\u001b[31m\r\n",
      "\u001b[0m"
     ]
    }
   ],
   "source": [
    "!pip uninstall -qqy jupyterlab kfp  # Remove unused conflicting packages\n",
    "!pip install -qU \"google-genai==1.7.0\" \"chromadb==0.6.3\""
   ]
  },
  {
   "cell_type": "code",
   "execution_count": 3,
   "id": "ec424a81",
   "metadata": {
    "execution": {
     "iopub.execute_input": "2025-04-19T15:45:20.996076Z",
     "iopub.status.busy": "2025-04-19T15:45:20.995296Z",
     "iopub.status.idle": "2025-04-19T15:45:22.273701Z",
     "shell.execute_reply": "2025-04-19T15:45:22.272840Z"
    },
    "papermill": {
     "duration": 1.288715,
     "end_time": "2025-04-19T15:45:22.275222",
     "exception": false,
     "start_time": "2025-04-19T15:45:20.986507",
     "status": "completed"
    },
    "tags": []
   },
   "outputs": [
    {
     "data": {
      "text/plain": [
       "'1.7.0'"
      ]
     },
     "execution_count": 3,
     "metadata": {},
     "output_type": "execute_result"
    }
   ],
   "source": [
    "from google import genai\n",
    "from google.genai import types\n",
    "\n",
    "from IPython.display import Markdown\n",
    "\n",
    "genai.__version__"
   ]
  },
  {
   "cell_type": "code",
   "execution_count": 4,
   "id": "57e2d379",
   "metadata": {
    "execution": {
     "iopub.execute_input": "2025-04-19T15:45:22.292834Z",
     "iopub.status.busy": "2025-04-19T15:45:22.291922Z",
     "iopub.status.idle": "2025-04-19T15:45:22.382790Z",
     "shell.execute_reply": "2025-04-19T15:45:22.381736Z"
    },
    "papermill": {
     "duration": 0.101295,
     "end_time": "2025-04-19T15:45:22.384581",
     "exception": false,
     "start_time": "2025-04-19T15:45:22.283286",
     "status": "completed"
    },
    "tags": []
   },
   "outputs": [],
   "source": [
    "# for kaggle notebook submission later \n",
    "from kaggle_secrets import UserSecretsClient\n",
    "\n",
    "GOOGLE_API_KEY = UserSecretsClient().get_secret(\"GOOGLE_API_KEY\")"
   ]
  },
  {
   "cell_type": "code",
   "execution_count": 5,
   "id": "951b4bc5",
   "metadata": {
    "execution": {
     "iopub.execute_input": "2025-04-19T15:45:22.401645Z",
     "iopub.status.busy": "2025-04-19T15:45:22.401101Z",
     "iopub.status.idle": "2025-04-19T15:45:23.115417Z",
     "shell.execute_reply": "2025-04-19T15:45:23.114279Z"
    },
    "papermill": {
     "duration": 0.724538,
     "end_time": "2025-04-19T15:45:23.116933",
     "exception": false,
     "start_time": "2025-04-19T15:45:22.392395",
     "status": "completed"
    },
    "tags": []
   },
   "outputs": [
    {
     "name": "stdout",
     "output_type": "stream",
     "text": [
      "models/embedding-001\n",
      "models/text-embedding-004\n",
      "models/gemini-embedding-exp-03-07\n",
      "models/gemini-embedding-exp\n"
     ]
    }
   ],
   "source": [
    "import os\n",
    "\n",
    "client = genai.Client(api_key=GOOGLE_API_KEY)\n",
    "\n",
    "for m in client.models.list():\n",
    "    if \"embedContent\" in m.supported_actions:\n",
    "        print(m.name)"
   ]
  },
  {
   "cell_type": "code",
   "execution_count": 6,
   "id": "f8887abf",
   "metadata": {
    "execution": {
     "iopub.execute_input": "2025-04-19T15:45:23.133610Z",
     "iopub.status.busy": "2025-04-19T15:45:23.133299Z",
     "iopub.status.idle": "2025-04-19T15:45:24.202988Z",
     "shell.execute_reply": "2025-04-19T15:45:24.201908Z"
    },
    "papermill": {
     "duration": 1.079925,
     "end_time": "2025-04-19T15:45:24.204623",
     "exception": false,
     "start_time": "2025-04-19T15:45:23.124698",
     "status": "completed"
    },
    "tags": []
   },
   "outputs": [
    {
     "name": "stdout",
     "output_type": "stream",
     "text": [
      "2025-04-19 15:45:23 URL:https://storage.googleapis.com/cloud-samples-data/generative-ai/pdf/2403.05530.pdf [7228817/7228817] -> \"gemini.pdf\" [1]\r\n"
     ]
    }
   ],
   "source": [
    "!wget -nv -O gemini.pdf https://storage.googleapis.com/cloud-samples-data/generative-ai/pdf/2403.05530.pdf\n",
    "\n",
    "document_eval_file = client.files.upload(file='gemini.pdf')"
   ]
  },
  {
   "cell_type": "code",
   "execution_count": 7,
   "id": "ab2d69bf",
   "metadata": {
    "execution": {
     "iopub.execute_input": "2025-04-19T15:45:24.221554Z",
     "iopub.status.busy": "2025-04-19T15:45:24.221218Z",
     "iopub.status.idle": "2025-04-19T15:45:30.099325Z",
     "shell.execute_reply": "2025-04-19T15:45:30.098258Z"
    },
    "papermill": {
     "duration": 5.888755,
     "end_time": "2025-04-19T15:45:30.101205",
     "exception": false,
     "start_time": "2025-04-19T15:45:24.212450",
     "status": "completed"
    },
    "tags": []
   },
   "outputs": [
    {
     "name": "stdout",
     "output_type": "stream",
     "text": [
      "Collecting PyMuPDF\r\n",
      "  Downloading pymupdf-1.25.5-cp39-abi3-manylinux2014_x86_64.manylinux_2_17_x86_64.whl.metadata (3.4 kB)\r\n",
      "Downloading pymupdf-1.25.5-cp39-abi3-manylinux2014_x86_64.manylinux_2_17_x86_64.whl (20.0 MB)\r\n",
      "\u001b[2K   \u001b[90m━━━━━━━━━━━━━━━━━━━━━━━━━━━━━━━━━━━━━━━━\u001b[0m \u001b[32m20.0/20.0 MB\u001b[0m \u001b[31m82.1 MB/s\u001b[0m eta \u001b[36m0:00:00\u001b[0m\r\n",
      "\u001b[?25hInstalling collected packages: PyMuPDF\r\n",
      "Successfully installed PyMuPDF-1.25.5\r\n"
     ]
    }
   ],
   "source": [
    "!pip install PyMuPDF  # Gemini do not have direct access to the file path, need to manually use python to pass contents"
   ]
  },
  {
   "cell_type": "markdown",
   "id": "9fb9cfc4",
   "metadata": {
    "papermill": {
     "duration": 0.007873,
     "end_time": "2025-04-19T15:45:30.117637",
     "exception": false,
     "start_time": "2025-04-19T15:45:30.109764",
     "status": "completed"
    },
    "tags": []
   },
   "source": [
    "## 1. Generate realistic earthquake scenarios using a disaster report (Document understanding)\n",
    "In this section, we evaluate document understanding by providing a disaster report as input to the model for scenario generation. The inclusion of the document helps guide the response toward more grounded and structured outputs.\n",
    "\n",
    "For comparison, scenarios generated without the document tend to be less detailed and more generic.\n",
    "\n",
    "We configure the generation parameters with temperature = 0.1 and top_p = 0.95. A lower temperature reduces randomness, helping the model produce more factual responses for simulating real-world disaster situations."
   ]
  },
  {
   "cell_type": "code",
   "execution_count": 8,
   "id": "bfbc1548",
   "metadata": {
    "execution": {
     "iopub.execute_input": "2025-04-19T15:45:30.135924Z",
     "iopub.status.busy": "2025-04-19T15:45:30.135553Z",
     "iopub.status.idle": "2025-04-19T15:45:30.140828Z",
     "shell.execute_reply": "2025-04-19T15:45:30.139887Z"
    },
    "papermill": {
     "duration": 0.016481,
     "end_time": "2025-04-19T15:45:30.142455",
     "exception": false,
     "start_time": "2025-04-19T15:45:30.125974",
     "status": "completed"
    },
    "tags": []
   },
   "outputs": [],
   "source": [
    "# Example\n",
    "location = 'Los Angeles'\n",
    "magnitude = 6.8\n",
    "population_density = 'high'\n",
    "time = '03:45 AM'"
   ]
  },
  {
   "cell_type": "code",
   "execution_count": 9,
   "id": "8be4de07",
   "metadata": {
    "execution": {
     "iopub.execute_input": "2025-04-19T15:45:30.160382Z",
     "iopub.status.busy": "2025-04-19T15:45:30.160057Z",
     "iopub.status.idle": "2025-04-19T15:45:32.098298Z",
     "shell.execute_reply": "2025-04-19T15:45:32.097361Z"
    },
    "papermill": {
     "duration": 1.949063,
     "end_time": "2025-04-19T15:45:32.100133",
     "exception": false,
     "start_time": "2025-04-19T15:45:30.151070",
     "status": "completed"
    },
    "tags": []
   },
   "outputs": [
    {
     "name": "stdout",
     "output_type": "stream",
     "text": [
      "2025-04-19 15:45:31 URL:https://prddsgofilestorage.blob.core.windows.net/api/event-featured-documents/file/2025_IFRC_MYANMAR_EQ_DISASTER_BRIEF_24H_Low_Res.pdf [529736/529736] -> \"Myanmar.pdf\" [1]\r\n"
     ]
    }
   ],
   "source": [
    "!wget -nv -O Myanmar.pdf https://prddsgofilestorage.blob.core.windows.net/api/event-featured-documents/file/2025_IFRC_MYANMAR_EQ_DISASTER_BRIEF_24H_Low_Res.pdf\n",
    "document_sim_file = client.files.upload(file='Myanmar.pdf')"
   ]
  },
  {
   "cell_type": "code",
   "execution_count": 10,
   "id": "6791b591",
   "metadata": {
    "execution": {
     "iopub.execute_input": "2025-04-19T15:45:32.118312Z",
     "iopub.status.busy": "2025-04-19T15:45:32.117942Z",
     "iopub.status.idle": "2025-04-19T15:45:40.815042Z",
     "shell.execute_reply": "2025-04-19T15:45:40.814274Z"
    },
    "papermill": {
     "duration": 8.707915,
     "end_time": "2025-04-19T15:45:40.816519",
     "exception": false,
     "start_time": "2025-04-19T15:45:32.108604",
     "status": "completed"
    },
    "tags": []
   },
   "outputs": [
    {
     "data": {
      "text/markdown": [
       "Okay, here's a crisis simulation based on your parameters:\n",
       "\n",
       "**Scenario: Los Angeles Earthquake**\n",
       "\n",
       "**Event:** A magnitude 6.8 earthquake strikes Los Angeles, California.\n",
       "\n",
       "**Date & Time:** October 26, 2024, 03:45 AM PST\n",
       "\n",
       "**Epicenter:**  Located approximately 8 miles (13 km) northeast of downtown Los Angeles, near the city of Pasadena. This places it directly under a densely populated area.\n",
       "\n",
       "**Geological Context:** The earthquake occurs on a previously unknown fault line, branching off the Sierra Madre Fault Zone. This unexpected rupture contributes to the severity of the damage.\n",
       "\n",
       "**Immediate Impacts:**\n",
       "\n",
       "*   **Shaking Intensity:**  Widespread \"violent\" shaking (MMI VIII-IX) across the Los Angeles Basin, with \"severe\" shaking (MMI VII) felt as far as San Bernardino and Ventura counties.\n",
       "*   **Infrastructure Damage:**\n",
       "    *   **Buildings:** Widespread damage to older, unreinforced masonry buildings.  Modern buildings fare better but still experience significant structural and non-structural damage (broken windows, fallen facades, internal damage).  Some collapses occur, particularly in older residential areas and commercial districts.\n",
       "    *   **Transportation:**  Major freeway overpasses and bridges sustain damage, leading to closures on key arteries like the I-5, I-10, and 101.  Surface streets are blocked by debris and fallen power lines.  Los Angeles International Airport (LAX) experiences runway damage and is temporarily closed.  The Metro Rail system suffers damage, with some sections collapsing.\n",
       "    *   **Utilities:**  Widespread power outages across the city.  Water mains rupture, leading to water shortages and contamination concerns.  Natural gas lines break, causing fires in several neighborhoods.  Cell phone service is overwhelmed and unreliable.\n",
       "*   **Casualties:**\n",
       "    *   **Immediate:**  Significant injuries and fatalities are reported.  Hospitals are overwhelmed with patients.  Many people are trapped in collapsed buildings.\n",
       "    *   **Estimates:** Initial estimates suggest hundreds of fatalities and thousands of injuries, but these numbers are expected to rise as search and rescue efforts progress.\n",
       "*   **Emergency Response:**\n",
       "    *   **Initial Chaos:**  The 911 system is overloaded.  First responders are hampered by damaged infrastructure and blocked roads.\n",
       "    *   **Activation:**  The Los Angeles Fire Department (LAFD) and Los Angeles Police Department (LAPD) activate their emergency response plans.  The National Guard is mobilized.  FEMA is notified and begins preparing to deploy resources.\n",
       "*   **Social Impacts:**\n",
       "    *   **Panic and Fear:**  Widespread panic and fear among the population.  People are trapped in their homes, offices, and vehicles.\n",
       "    *   **Displacement:**  Thousands of people are displaced from their homes due to damage or fear of aftershocks.  Shelters are quickly established but are soon overwhelmed.\n",
       "    *   **Looting and Civil Unrest:**  Reports of looting and civil unrest begin to surface in some areas.\n",
       "\n",
       "**Secondary Impacts:**\n",
       "\n",
       "*   **Aftershocks:**  Numerous aftershocks, some of significant magnitude (5.0+), continue to rattle the region, causing further damage and hindering rescue efforts.\n",
       "*   **Fires:**  Multiple fires break out due to ruptured gas lines and downed power lines.  The LAFD struggles to contain the blazes due to water shortages and blocked roads.\n",
       "*   **Landslides:**  Heavy shaking triggers landslides in the Hollywood Hills and other hillside areas, damaging homes and blocking roads.\n",
       "*   **Tsunami Threat:**  While the epicenter is inland, there is a concern about potential landslides into the ocean triggering localized tsunamis.  Coastal areas are put on alert.\n",
       "*   **Economic Impact:**  The earthquake causes billions of dollars in damage.  Businesses are disrupted, and the tourism industry suffers a major blow.\n",
       "\n",
       "**Challenges:**\n",
       "\n",
       "*   **High Population Density:**  The high population density of Los Angeles makes rescue and relief efforts extremely challenging.\n",
       "*   **Infrastructure Vulnerability:**  The aging infrastructure of Los Angeles is particularly vulnerable to earthquakes.\n",
       "*   **Communication Breakdown:**  Communication systems are overwhelmed, making it difficult to coordinate rescue and relief efforts.\n",
       "*   **Resource Scarcity:**  Resources such as water, food, and medical supplies are quickly depleted.\n",
       "*   **Public Health Concerns:**  Concerns about the spread of disease due to water contamination and overcrowding in shelters.\n",
       "\n",
       "**Potential Escalation:**\n",
       "\n",
       "*   **Major Aftershock:**  A large aftershock could cause further collapses and increase casualties.\n",
       "*   **Widespread Civil Unrest:**  If looting and civil unrest escalate, it could overwhelm law enforcement and hinder rescue efforts.\n",
       "*   **Long-Term Displacement:**  Thousands of people could be permanently displaced from their homes, creating a long-term housing crisis.\n",
       "\n",
       "**This scenario is designed to be a starting point.  Further details and complexities can be added to make the simulation even more realistic.**\n"
      ],
      "text/plain": [
       "<IPython.core.display.Markdown object>"
      ]
     },
     "execution_count": 10,
     "metadata": {},
     "output_type": "execute_result"
    }
   ],
   "source": [
    "request = f\"\"\"\n",
    "You're a crisis simulator. Create a realistic earthquake scenario based on:\n",
    "Location: {location}\n",
    "Magnitude: {magnitude}\n",
    "Population Density: {population_density}\n",
    "Time: {time}\n",
    "\"\"\"\n",
    "\n",
    "model_config = types.GenerateContentConfig(temperature=0.1, top_p=0.95)\n",
    "\n",
    "response = client.models.generate_content(\n",
    "    model='gemini-2.0-flash',\n",
    "    config=model_config,\n",
    "    contents=[request, document_sim_file]) #contents=[request] uncomment this for runnning without document\n",
    "\n",
    "final_resp = response.text\n",
    "# print(final_resp)\n",
    "Markdown(final_resp)"
   ]
  },
  {
   "cell_type": "markdown",
   "id": "fd44b069",
   "metadata": {
    "papermill": {
     "duration": 0.008666,
     "end_time": "2025-04-19T15:45:40.833827",
     "exception": false,
     "start_time": "2025-04-19T15:45:40.825161",
     "status": "completed"
    },
    "tags": []
   },
   "source": [
    "## 2. Evaluate simulated responses (GenAI Evaluation)\n",
    "In this section, we leverage GenAI-based evaluation to assess the quality of the simulated earthquake response outputs generated earlier.\n",
    "\n",
    "We employ both pointwise and pairwise evaluation methods using Gemini to analyze the Accuracy and Groundedness, Relevance and Usefulness, Clarity and Structure, and Completeness of each response. This helps us identify which outputs are most effective for supporting disaster planning and decision-making."
   ]
  },
  {
   "cell_type": "markdown",
   "id": "8530de7f",
   "metadata": {
    "papermill": {
     "duration": 0.008202,
     "end_time": "2025-04-19T15:45:40.850470",
     "exception": false,
     "start_time": "2025-04-19T15:45:40.842268",
     "status": "completed"
    },
    "tags": []
   },
   "source": [
    "#### Pointwise Evaluation"
   ]
  },
  {
   "cell_type": "code",
   "execution_count": 11,
   "id": "5bcde480",
   "metadata": {
    "execution": {
     "iopub.execute_input": "2025-04-19T15:45:40.868954Z",
     "iopub.status.busy": "2025-04-19T15:45:40.868648Z",
     "iopub.status.idle": "2025-04-19T15:45:43.547722Z",
     "shell.execute_reply": "2025-04-19T15:45:43.546856Z"
    },
    "papermill": {
     "duration": 2.690344,
     "end_time": "2025-04-19T15:45:43.549451",
     "exception": false,
     "start_time": "2025-04-19T15:45:40.859107",
     "status": "completed"
    },
    "tags": []
   },
   "outputs": [
    {
     "data": {
      "text/markdown": [
       "STEP 1: The prompt requests a realistic earthquake scenario in Los Angeles with specific parameters. The AI provides a detailed simulation including the event, location, impacts, challenges, and potential escalations.\n",
       "\n",
       "STEP 2:\n",
       "*   **Accuracy and Groundedness:** The AI response uses realistic seismic terms (MMI scale), considers the geological context of the location (Sierra Madre Fault Zone), and factors in typical earthquake consequences (infrastructure damage, casualties, utility failures). The response logically connects the earthquake's magnitude and location to the expected damage and aftereffects.\n",
       "*   **Relevance and Usefulness:** The AI provides highly relevant information for emergency response. It identifies key areas of concern (infrastructure, casualties, social impacts) and outlines the challenges and potential escalations that response teams should consider.\n",
       "*   **Clarity and Structure:** The response is well-structured, using clear headings and bullet points to organize information. The writing is easy to understand, making it accessible for emergency planners and responders.\n",
       "*   **Completeness:** The response covers all the requested parameters and provides a comprehensive overview of the earthquake scenario, including immediate impacts, secondary impacts, challenges, and potential escalations.\n",
       "\n",
       "STEP 3: The response is very good and provides a comprehensive and realistic earthquake scenario. The detailed information about infrastructure damage, casualties, and potential escalations is highly valuable for emergency planning and response. It is also well-structured and easy to understand.\n",
       "\n",
       "STEP 4: Rating: 5\n"
      ],
      "text/plain": [
       "<IPython.core.display.Markdown object>"
      ]
     },
     "execution_count": 11,
     "metadata": {},
     "output_type": "execute_result"
    }
   ],
   "source": [
    "# Evaluate \n",
    "import enum\n",
    "\n",
    "# Define the evaluation prompt\n",
    "SIMU_PROMPT = \"\"\"\\\n",
    "You are an expert evaluator in natural disaster response and AI systems. Your task is to evaluate the quality of AI-generated responses related to earthquake simulation scenarios.\n",
    "\n",
    "You will be provided with a user input describing a simulation scenario or goal, and a response generated by an AI model. Your job is to analyze how well the AI's response meets the expectations of a useful, actionable, and accurate simulation output in the context of earthquake preparedness or emergency response.\n",
    "\n",
    "Follow the evaluation criteria and assign a rating based on the rubric. Provide step-by-step reasoning for your score, and choose only from the defined rating scale.\n",
    "\n",
    "# Evaluation\n",
    "## Metric Definition\n",
    "You are evaluating the **simulation quality and response utility** in the context of earthquake disaster scenarios. A strong response should provide accurate, grounded, and actionable insights or outputs based on the scenario described. The simulation should not introduce speculative or irrelevant data.\n",
    "\n",
    "## Criteria\n",
    "1. **Accuracy and Groundedness**: The response is factually correct and reflects the information contained in the prompt or assumed reasonable context (e.g., known seismic behavior, typical emergency protocols). It does not hallucinate or invent unsupported claims.\n",
    "2. **Relevance and Usefulness**: The response provides relevant insights or actions that would be helpful in earthquake response, such as resource planning, risk zones, evacuation paths, or damage estimates.\n",
    "3. **Clarity and Structure**: The information is clearly presented and logically organized, allowing emergency teams or planners to understand and use it quickly.\n",
    "4. **Completeness**: The response addresses all aspects of the simulation request or scenario, without leaving critical details out.\n",
    "\n",
    "## Rating Rubric\n",
    "5: (Excellent). Fully accurate, highly relevant, clearly written, and complete.\n",
    "4: (Good). Mostly accurate and relevant, clearly written, but may miss one minor detail.\n",
    "3: (Fair). Partially accurate or relevant; some gaps in clarity or completeness.\n",
    "2: (Poor). Lacks accuracy or misses critical elements; hard to use in a real-world scenario.\n",
    "1: (Very Poor). Inaccurate or irrelevant; not suitable for real disaster response usage.\n",
    "\n",
    "## Evaluation Steps\n",
    "STEP 1: Read the scenario prompt and AI response.\n",
    "STEP 2: Evaluate it using the four criteria: accuracy, relevance, clarity, and completeness.\n",
    "STEP 3: Provide detailed reasoning.\n",
    "STEP 4: Assign a rating from the rubric above.\n",
    "\n",
    "# User Inputs and AI-generated Response\n",
    "## User Inputs\n",
    "\n",
    "### Prompt\n",
    "{prompt}\n",
    "\n",
    "## AI-generated Response\n",
    "{response}\n",
    "\"\"\"\n",
    "\n",
    "# Define a structured enum class to capture the result.\n",
    "class SummaryRating(enum.Enum):\n",
    "  VERY_GOOD = '5'\n",
    "  GOOD = '4'\n",
    "  OK = '3'\n",
    "  BAD = '2'\n",
    "  VERY_BAD = '1'\n",
    "\n",
    "\n",
    "def eval_sim(prompt, ai_response):\n",
    "  \"\"\"Evaluate the generated summary against the prompt used.\"\"\"\n",
    "\n",
    "  chat = client.chats.create(model='gemini-2.0-flash')\n",
    "\n",
    "  # Generate the full text response.\n",
    "  response = chat.send_message(\n",
    "      message=SIMU_PROMPT.format(prompt=prompt, response=ai_response)\n",
    "  )\n",
    "  verbose_eval = response.text\n",
    "\n",
    "  # Coerce into the desired structure.\n",
    "  structured_output_config = types.GenerateContentConfig(\n",
    "      response_mime_type=\"text/x.enum\",\n",
    "      response_schema=SummaryRating,\n",
    "  )\n",
    "  response = chat.send_message(\n",
    "      message=\"Convert the final score.\",\n",
    "      config=structured_output_config,\n",
    "  )\n",
    "  structured_eval = response.parsed\n",
    "\n",
    "  return verbose_eval, structured_eval\n",
    "\n",
    "\n",
    "text_eval, struct_eval = eval_sim(prompt=[request, document_sim_file], ai_response=final_resp)\n",
    "Markdown(text_eval)"
   ]
  },
  {
   "cell_type": "markdown",
   "id": "e94020c0",
   "metadata": {
    "papermill": {
     "duration": 0.008401,
     "end_time": "2025-04-19T15:45:43.566716",
     "exception": false,
     "start_time": "2025-04-19T15:45:43.558315",
     "status": "completed"
    },
    "tags": []
   },
   "source": [
    "#### Pairwise Evaluation\n",
    "When simulating crisis responses using different source documents, the generated outputs can vary significantly. To assess the quality of these variations, pairwise evaluation is used.\n",
    "\n",
    "In the code below, we compare two responses generated from different input documents. The evaluation process determines which response is more realistic, relevant, and useful for crisis response planning, based on predefined criteria."
   ]
  },
  {
   "cell_type": "code",
   "execution_count": 12,
   "id": "ad9f7897",
   "metadata": {
    "execution": {
     "iopub.execute_input": "2025-04-19T15:45:43.585360Z",
     "iopub.status.busy": "2025-04-19T15:45:43.585058Z",
     "iopub.status.idle": "2025-04-19T15:45:52.356909Z",
     "shell.execute_reply": "2025-04-19T15:45:52.355874Z"
    },
    "papermill": {
     "duration": 8.783142,
     "end_time": "2025-04-19T15:45:52.358478",
     "exception": false,
     "start_time": "2025-04-19T15:45:43.575336",
     "status": "completed"
    },
    "tags": []
   },
   "outputs": [
    {
     "data": {
      "text/markdown": [
       "Okay, here's a crisis simulation based on your parameters:\n",
       "\n",
       "**Scenario: Los Angeles Earthquake**\n",
       "\n",
       "*   **Location:** Los Angeles, California, USA\n",
       "*   **Magnitude:** 6.8\n",
       "*   **Population Density:** High (especially in affected areas)\n",
       "*   **Time:** 03:45 AM (Pacific Standard Time)\n",
       "*   **Date:** October 26, 2024\n",
       "\n",
       "**Initial Situation Report:**\n",
       "\n",
       "**The Event:** At 03:45 AM PST, a magnitude 6.8 earthquake struck the Los Angeles metropolitan area. The epicenter is located approximately 10 miles (16 km) southwest of downtown Los Angeles, near Inglewood. The shallow depth of the quake (estimated at 7 miles/11 km) amplified the shaking intensity.\n",
       "\n",
       "**Immediate Impacts:**\n",
       "\n",
       "*   **Widespread Shaking:** Strong to very strong shaking (MMI VII-VIII) was felt across Los Angeles County, Orange County, and parts of San Bernardino and Riverside Counties.\n",
       "*   **Infrastructure Damage:**\n",
       "    *   **Transportation:** Reports of collapsed overpasses on major freeways (I-10, I-405) near the epicenter. Significant damage to surface streets, including cracks, buckling, and sinkholes. Los Angeles International Airport (LAX) reports runway damage and is temporarily closed.\n",
       "    *   **Utilities:** Widespread power outages across the region. Natural gas leaks reported in multiple locations, leading to fires. Water main breaks are causing flooding in some areas. Cell phone service is disrupted due to overloaded networks and damaged infrastructure.\n",
       "    *   **Buildings:** Older, unreinforced masonry buildings in downtown Los Angeles and older residential areas have suffered significant damage or collapse. Newer buildings, while generally structurally sound, have experienced non-structural damage (broken windows, fallen debris).\n",
       "*   **Casualties:** Initial reports indicate a high number of injuries and fatalities. Hospitals are overwhelmed with patients. Search and rescue operations are underway to locate trapped individuals in collapsed buildings.\n",
       "*   **Population Displacement:** Thousands of people are displaced from their homes due to damage or fear of aftershocks. Emergency shelters are being set up in schools, community centers, and parks.\n",
       "*   **Emergency Services:** Fire departments, police, and paramedics are stretched thin responding to calls for help. Communication difficulties are hampering coordination efforts.\n",
       "*   **Aftershocks:** Numerous aftershocks are being felt, including several above magnitude 4.0, causing further panic and hindering rescue efforts.\n",
       "\n",
       "**Key Challenges:**\n",
       "\n",
       "*   **Search and Rescue:** Accessing and rescuing trapped individuals in collapsed buildings is the top priority. Specialized urban search and rescue teams are needed.\n",
       "*   **Medical Surge Capacity:** Hospitals are overwhelmed. Triage and medical care are needed at the scene of collapses and in temporary shelters.\n",
       "*   **Shelter and Basic Needs:** Providing shelter, food, water, and sanitation to displaced populations is critical.\n",
       "*   **Communication:** Restoring communication networks is essential for coordinating the response.\n",
       "*   **Traffic Congestion:** Damaged roads and freeways are causing massive traffic jams, hindering emergency vehicle access.\n",
       "*   **Fire Suppression:** Controlling fires caused by natural gas leaks is a major concern.\n",
       "*   **Public Panic:** Fear and anxiety are widespread, leading to panic and hindering orderly evacuation.\n",
       "*   **Resource Allocation:** Prioritizing and allocating limited resources (personnel, equipment, supplies) effectively is crucial.\n",
       "\n",
       "**Potential Escalation Factors:**\n",
       "\n",
       "*   **Major Aftershock:** A large aftershock could cause further building collapses and casualties.\n",
       "*   **Tsunami Threat:** Although the epicenter is inland, a large earthquake could trigger a local tsunami, impacting coastal areas.\n",
       "*   **Hazardous Materials Release:** Damage to industrial facilities could lead to the release of hazardous materials.\n",
       "*   **Civil Unrest:** As resources become scarce, there is a risk of looting and civil unrest.\n",
       "\n",
       "**Immediate Actions Required:**\n",
       "\n",
       "1.  **Activate Emergency Operations Center (EOC):** Coordinate the response efforts of all agencies.\n",
       "2.  **Deploy Search and Rescue Teams:** Focus on areas with collapsed buildings.\n",
       "3.  **Establish Medical Triage Centers:** Set up temporary medical facilities to treat the injured.\n",
       "4.  **Open Emergency Shelters:** Provide shelter and basic needs to displaced populations.\n",
       "5.  **Restore Communication Networks:** Prioritize restoring communication for emergency responders and the public.\n",
       "6.  **Assess Infrastructure Damage:** Conduct a rapid assessment of damage to critical infrastructure.\n",
       "7.  **Request Mutual Aid:** Request assistance from neighboring jurisdictions and state/federal agencies.\n",
       "8.  **Issue Public Safety Announcements:** Provide clear and accurate information to the public about the situation and safety precautions.\n",
       "\n",
       "**This is a dynamic situation. The information above represents the initial assessment and is subject to change as more information becomes available.**\n",
       "\n",
       "**Your Role:** You are the Director of the Los Angeles County Office of Emergency Management. What are your next steps? What resources do you prioritize? How do you communicate with the public?\n"
      ],
      "text/plain": [
       "<IPython.core.display.Markdown object>"
      ]
     },
     "execution_count": 12,
     "metadata": {},
     "output_type": "execute_result"
    }
   ],
   "source": [
    "# Wrap the model generation for easier implementation for pairwise evaluation\n",
    "\n",
    "import functools\n",
    "\n",
    "request = f\"\"\"\n",
    "You're a crisis simulator. Create a realistic earthquake scenario based on:\n",
    "Location: {location}\n",
    "Magnitude: {magnitude}\n",
    "Population Density: {population_density}\n",
    "Time: {time}\n",
    "\"\"\"\n",
    "\n",
    "# @functools.cache\n",
    "def answer_question(prompt, doc_file) :\n",
    "  \"\"\"Generate an answer to the question using the uploaded document and guidance.\"\"\"\n",
    "  model_config = types.GenerateContentConfig(temperature=0.1, top_p=0.95)\n",
    "  response = client.models.generate_content(\n",
    "    model='gemini-2.0-flash',\n",
    "    config=model_config,\n",
    "    contents=[prompt, doc_file])\n",
    "\n",
    "  return response.text\n",
    "\n",
    "# Test the function\n",
    "final_resp = answer_question(request, document_sim_file)\n",
    "Markdown(final_resp)"
   ]
  },
  {
   "cell_type": "code",
   "execution_count": 13,
   "id": "c4e6f5ce",
   "metadata": {
    "execution": {
     "iopub.execute_input": "2025-04-19T15:45:52.377586Z",
     "iopub.status.busy": "2025-04-19T15:45:52.377294Z",
     "iopub.status.idle": "2025-04-19T15:46:20.816451Z",
     "shell.execute_reply": "2025-04-19T15:46:20.815500Z"
    },
    "papermill": {
     "duration": 28.450497,
     "end_time": "2025-04-19T15:46:20.817832",
     "exception": false,
     "start_time": "2025-04-19T15:45:52.367335",
     "status": "completed"
    },
    "tags": []
   },
   "outputs": [
    {
     "data": {
      "text/markdown": [
       "STEP 1: Analyze Response A\n",
       "Response A is well-organized and provides a comprehensive overview of the immediate, short-term, mid-term, and long-term impacts of a 6.8 magnitude earthquake in Los Angeles. It realistically portrays the expected damage to buildings and infrastructure, the challenges faced by emergency responders, and the potential for psychological trauma among residents. The inclusion of \"Key Challenges\" is useful for focusing simulation efforts. It covers important aspects like communication breakdowns, resource allocation and public safety.\n",
       "\n",
       "STEP 2: Analyze Response B\n",
       "Response B offers a detailed initial situation report. It includes a specific epicenter location, which enhances the realism. The report format with numbered sections is structured and easy to follow. B highlights specific areas of concern, such as Downtown Los Angeles, Hollywood, and low-income communities, making the simulation more targeted. The inclusion of possible escalation factors adds depth. It also offers relevant questions to consider for simulation, which could prompt deeper analysis.\n",
       "\n",
       "STEP 3: Compare the overall performance of both responses\n",
       "Both responses are strong. Response B is slightly better because it gives an example date for the earthquake, specific location for the epicenter, and includes possible escalation factors. All of these things make the simulation more realistic than A.\n",
       "\n",
       "STEP 4: Output your preference\n",
       "B\n",
       "\n",
       "STEP 5: Output your reasoning\n",
       "Response B is preferred for its more realistic and actionable simulation of an earthquake scenario in Los Angeles. While Response A provides a good overview, Response B offers more specific details, such as the epicenter location and potential escalation factors (e.g., dam failure, civil unrest), which enhance the realism and usefulness of the simulation. The structured \"Initial Situation Report\" format in Response B, coupled with relevant questions for consideration, also contributes to a more effective simulation.\n"
      ],
      "text/plain": [
       "<IPython.core.display.Markdown object>"
      ]
     },
     "metadata": {},
     "output_type": "display_data"
    },
    {
     "name": "stdout",
     "output_type": "stream",
     "text": [
      "AnswerComparison.B\n"
     ]
    }
   ],
   "source": [
    "EARTHQUAKE_PAIRWISE_PROMPT = \"\"\"\\\n",
    "# Instruction\n",
    "You are an expert evaluator in earthquake disaster preparedness and AI systems. Your task is to evaluate the quality of simulated earthquake scenario responses generated by two different AI models.\n",
    "\n",
    "We will provide you with the user input describing a simulation goal or scenario, along with two AI-generated responses (Response A and Response B). First, analyze each response individually based on the Evaluation Criteria. Then, compare both and determine which one provides a more realistic, useful, and well-structured earthquake simulation.\n",
    "\n",
    "Give a detailed explanation for your judgment, then clearly state your preferred response (\"A\", \"B\", or \"SAME\").\n",
    "\n",
    "# Evaluation\n",
    "## Metric Definition\n",
    "You are assessing the quality of earthquake simulation responses, focusing on how well each output meets the scenario requirements and delivers realistic, grounded, actionable information that would assist in crisis planning or response.\n",
    "\n",
    "## Criteria\n",
    "1. **Realism and Accuracy**: The response reflects plausible earthquake outcomes based on known seismic patterns, realistic damage, and expected effects. It avoids hallucinated data or exaggerated assumptions.\n",
    "2. **Relevance and Usefulness**: The response aligns with the intended use (e.g., planning, evacuation, damage forecasting) and contains relevant content such as affected zones, infrastructure impact, population risk, etc.\n",
    "3. **Clarity and Structure**: The response is well-organized and easy to interpret, especially for responders or planners in time-sensitive situations.\n",
    "4. **Completeness**: The response fully addresses the prompt without omitting critical details necessary for understanding or action.\n",
    "\n",
    "## Rating Rubric\n",
    "\"A\": Response A simulates the scenario more effectively than Response B, based on the criteria.\n",
    "\"SAME\": Both responses are equally effective.\n",
    "\"B\": Response B simulates the scenario more effectively than Response A, based on the criteria.\n",
    "\n",
    "## Evaluation Steps\n",
    "STEP 1: Analyze Response A based on the four evaluation criteria.\n",
    "STEP 2: Analyze Response B based on the same criteria.\n",
    "STEP 3: Compare the overall performance of both responses.\n",
    "STEP 4: Output your preference of \"A\", \"SAME\", or \"B\" to the `pairwise_choice` field according to the rubric.\n",
    "STEP 5: Output your reasoning in the `explanation` field.\n",
    "\n",
    "# User Inputs and AI-generated Responses\n",
    "## User Inputs\n",
    "### Prompt\n",
    "{prompt}\n",
    "\n",
    "# AI-generated Response\n",
    "\n",
    "### Response A\n",
    "{baseline_model_response}\n",
    "\n",
    "### Response B\n",
    "{response}\n",
    "\"\"\"\n",
    "\n",
    "\n",
    "class AnswerComparison(enum.Enum):\n",
    "  A = 'A'\n",
    "  SAME = 'SAME'\n",
    "  B = 'B'\n",
    "\n",
    "\n",
    "@functools.cache\n",
    "def eval_pairwise(prompt, response_a, response_b, n=1):\n",
    "  \"\"\"Determine the better of two answers to the same prompt.\"\"\"\n",
    "\n",
    "  chat = client.chats.create(model='gemini-2.0-flash')\n",
    "\n",
    "  # Generate the full text response.\n",
    "  response = chat.send_message(\n",
    "      message=EARTHQUAKE_PAIRWISE_PROMPT.format(\n",
    "          prompt=[prompt, document_eval_file],\n",
    "          baseline_model_response=response_a,\n",
    "          response=response_b)\n",
    "  )\n",
    "  verbose_eval = response.text\n",
    "\n",
    "  # Coerce into the desired structure.\n",
    "  structured_output_config = types.GenerateContentConfig(\n",
    "      response_mime_type=\"text/x.enum\",\n",
    "      response_schema=AnswerComparison,\n",
    "  )\n",
    "  response = chat.send_message(\n",
    "      message=\"Convert the final score.\",\n",
    "      config=structured_output_config,\n",
    "  )\n",
    "  structured_eval = response.parsed\n",
    "\n",
    "  return verbose_eval, structured_eval\n",
    "\n",
    "answer_A002 = answer_question(request, document_eval_file)\n",
    "answer_A003 = answer_question(request, document_sim_file)\n",
    "\n",
    "text_eval, struct_eval = eval_pairwise(\n",
    "    prompt=request,\n",
    "    response_a=answer_A002,\n",
    "    response_b=answer_A003,\n",
    ")\n",
    "\n",
    "display(Markdown(text_eval))\n",
    "print(struct_eval)"
   ]
  },
  {
   "cell_type": "markdown",
   "id": "8a23db2e",
   "metadata": {
    "papermill": {
     "duration": 0.008529,
     "end_time": "2025-04-19T15:46:20.835652",
     "exception": false,
     "start_time": "2025-04-19T15:46:20.827123",
     "status": "completed"
    },
    "tags": []
   },
   "source": [
    "## 3. Simulate social media crisis messages (Few-shot prompting)\n",
    "In this part, few-shot prompting is used to simulate social media posts (e.g.,X messages) that might appear during an earthquake scenario. By providing a few example messages, the model learns the pattern and generates new, contextually similar outputs.\n",
    "\n",
    "The temperature parameter is set to 0.9 to increase diversity and creativity in the generated messages, reflecting the variety of real-world social media expressions during a crisis."
   ]
  },
  {
   "cell_type": "code",
   "execution_count": 14,
   "id": "82e8f0fe",
   "metadata": {
    "execution": {
     "iopub.execute_input": "2025-04-19T15:46:20.855176Z",
     "iopub.status.busy": "2025-04-19T15:46:20.854842Z",
     "iopub.status.idle": "2025-04-19T15:46:23.478576Z",
     "shell.execute_reply": "2025-04-19T15:46:23.477689Z"
    },
    "papermill": {
     "duration": 2.635463,
     "end_time": "2025-04-19T15:46:23.480287",
     "exception": false,
     "start_time": "2025-04-19T15:46:20.844824",
     "status": "completed"
    },
    "tags": []
   },
   "outputs": [
    {
     "data": {
      "text/markdown": [
       "Okay, here are 5 realistic tweets reflecting the situation you described, with a 6.8 magnitude earthquake hitting Los Angeles at 3:45 AM, focusing on downtown and the East Valley:\n",
       "\n",
       "1.  **@SoCalMomOf2:** HUGE earthquake just woke us up! Shaking hasn't stopped! Kids are terrified. We're near Pershing Square and heard some crashes outside. Anyone else okay downtown? #earthquake #LosAngeles #LAquake\n",
       "\n",
       "2.  **@DTLA_Foodie:** Holy crap that was the big one! My apartment building downtown is swaying like crazy. Power's out. Anyone know if the 110 is still open? Need to get out of here ASAP. #earthquake #LosAngeles #DTLA\n",
       "\n",
       "3.  **@EastValley_Hope:** We're at the East Valley shelter and it's overflowing. Buildings collapsed nearby. No power or water since 2AM! Need immediate assistance! Can someone send help to East Valley shelter? #earthquake #LosAngeles #EastValley #Help\n",
       "\n",
       "4.  **@TechBroLA:** Felt like the world ended. Just checked on my neighbors in Koreatown, everyone seems shaken but okay. Power outage across the whole block. Waiting for aftershocks... this is insane. #earthquake #LosAngeles #Koreatown\n",
       "\n",
       "5.  **@FilmStudent88:** My building near USC just partially collapsed. I'm trapped but okay for now, on the second floor. Need rescue! Corner of Figueroa and Exposition. Please send help! #earthquake #LosAngeles #USC #RescueMe\n"
      ],
      "text/plain": [
       "<IPython.core.display.Markdown object>"
      ]
     },
     "execution_count": 14,
     "metadata": {},
     "output_type": "execute_result"
    }
   ],
   "source": [
    "tweet_examples = [\n",
    "    \"I'm stuck near downtown! Buildings collapsed!\",\n",
    "    \"No power or water since 2am!\",\n",
    "    \"Can someone send help to East Valley shelter?\",\n",
    "]\n",
    "\n",
    "user_prompt = f'''\n",
    "Generate 5 realistic tweets from residents in {location} during a {magnitude} magnitude earthquake at {time}. \n",
    "The area has {population_density} population density. Tweets should reflect panic, help requests, and status updates.\n",
    "Include relevant hashtags like #earthquake and #{location}.\n",
    "\n",
    "Tweets:\n",
    "'''\n",
    "\n",
    "tw_prompt =  \"\\n\".join(tweet_examples) + user_prompt\n",
    "model_config = types.GenerateContentConfig(temperature=0.9) #high temp for more diverse \n",
    "\n",
    "tweet_response = client.models.generate_content(\n",
    "    model='gemini-2.0-flash',\n",
    "    config=model_config,\n",
    "    contents=[tw_prompt])\n",
    "\n",
    "tweet_final_resp = tweet_response.text\n",
    "Markdown(tweet_final_resp)"
   ]
  },
  {
   "cell_type": "markdown",
   "id": "df2781d8",
   "metadata": {
    "papermill": {
     "duration": 0.009659,
     "end_time": "2025-04-19T15:46:23.499523",
     "exception": false,
     "start_time": "2025-04-19T15:46:23.489864",
     "status": "completed"
    },
    "tags": []
   },
   "source": [
    "## 4. Analyze uploaded reports (RAG, Embeddings, Vector Database)\n",
    "In this section, we use Chroma to store document chunks as embeddings in a vector database. This enables a Retrieval-Augmented Generation (RAG) approach, where relevant document sections are retrieved and incorporated into the prompt. This method yields more accurate and context-aware responses compared to simply feeding entire documents directly into the model."
   ]
  },
  {
   "cell_type": "code",
   "execution_count": 15,
   "id": "23d4f8db",
   "metadata": {
    "execution": {
     "iopub.execute_input": "2025-04-19T15:46:23.585224Z",
     "iopub.status.busy": "2025-04-19T15:46:23.584890Z",
     "iopub.status.idle": "2025-04-19T15:46:27.168058Z",
     "shell.execute_reply": "2025-04-19T15:46:27.166889Z"
    },
    "papermill": {
     "duration": 3.661002,
     "end_time": "2025-04-19T15:46:27.169903",
     "exception": false,
     "start_time": "2025-04-19T15:46:23.508901",
     "status": "completed"
    },
    "tags": []
   },
   "outputs": [
    {
     "name": "stdout",
     "output_type": "stream",
     "text": [
      "Requirement already satisfied: PyMuPDF in /usr/local/lib/python3.11/dist-packages (1.25.5)\r\n"
     ]
    }
   ],
   "source": [
    "!pip install PyMuPDF  # Gemini do not have direct access to the file path, need to manually use python to pass contents"
   ]
  },
  {
   "cell_type": "code",
   "execution_count": 16,
   "id": "38571333",
   "metadata": {
    "execution": {
     "iopub.execute_input": "2025-04-19T15:46:27.190067Z",
     "iopub.status.busy": "2025-04-19T15:46:27.189680Z",
     "iopub.status.idle": "2025-04-19T15:46:28.033025Z",
     "shell.execute_reply": "2025-04-19T15:46:28.032003Z"
    },
    "papermill": {
     "duration": 0.855316,
     "end_time": "2025-04-19T15:46:28.034688",
     "exception": false,
     "start_time": "2025-04-19T15:46:27.179372",
     "status": "completed"
    },
    "tags": []
   },
   "outputs": [],
   "source": [
    "from chromadb import Documents, EmbeddingFunction, Embeddings\n",
    "from google.api_core import retry\n",
    "\n",
    "from google.genai import types"
   ]
  },
  {
   "cell_type": "code",
   "execution_count": 17,
   "id": "41f8a201",
   "metadata": {
    "execution": {
     "iopub.execute_input": "2025-04-19T15:46:28.058735Z",
     "iopub.status.busy": "2025-04-19T15:46:28.057845Z",
     "iopub.status.idle": "2025-04-19T15:46:29.041737Z",
     "shell.execute_reply": "2025-04-19T15:46:29.040626Z"
    },
    "papermill": {
     "duration": 0.999462,
     "end_time": "2025-04-19T15:46:29.043535",
     "exception": false,
     "start_time": "2025-04-19T15:46:28.044073",
     "status": "completed"
    },
    "tags": []
   },
   "outputs": [
    {
     "name": "stdout",
     "output_type": "stream",
     "text": [
      "2025-04-19 15:46:28 URL:https://www.unocha.org/attachments/2c9df378-1961-4841-bfea-2a37c31a5c9d/Myanmar%20Earthquake%20Situation%20Report%201_final.pdf [570579/570579] -> \"Myanmar_SitRep.pdf\" [1]\r\n"
     ]
    }
   ],
   "source": [
    "!wget -nv -O Myanmar_SitRep.pdf https://www.unocha.org/attachments/2c9df378-1961-4841-bfea-2a37c31a5c9d/Myanmar%20Earthquake%20Situation%20Report%201_final.pdf \n",
    "document_sitrep_file = client.files.upload(file='Myanmar_SitRep.pdf')"
   ]
  },
  {
   "cell_type": "code",
   "execution_count": 18,
   "id": "cff52153",
   "metadata": {
    "execution": {
     "iopub.execute_input": "2025-04-19T15:46:29.063505Z",
     "iopub.status.busy": "2025-04-19T15:46:29.063184Z",
     "iopub.status.idle": "2025-04-19T15:46:31.186820Z",
     "shell.execute_reply": "2025-04-19T15:46:31.185890Z"
    },
    "papermill": {
     "duration": 2.135513,
     "end_time": "2025-04-19T15:46:31.188501",
     "exception": false,
     "start_time": "2025-04-19T15:46:29.052988",
     "status": "completed"
    },
    "tags": []
   },
   "outputs": [
    {
     "name": "stdout",
     "output_type": "stream",
     "text": [
      "2025-04-19 15:46:30 URL:https://www.urban-response.org/system/files/content/resource/files/main/26164-earthquakeguidelinesenweb.pdf [3002002/3002002] -> \"EQ_Guidelines.pdf\" [1]\r\n"
     ]
    }
   ],
   "source": [
    "!wget -nv -O EQ_Guidelines.pdf https://www.urban-response.org/system/files/content/resource/files/main/26164-earthquakeguidelinesenweb.pdf\n",
    "document_guide_file = client.files.upload(file='EQ_Guidelines.pdf')"
   ]
  },
  {
   "cell_type": "code",
   "execution_count": 19,
   "id": "f24ab48e",
   "metadata": {
    "execution": {
     "iopub.execute_input": "2025-04-19T15:46:31.208629Z",
     "iopub.status.busy": "2025-04-19T15:46:31.208333Z",
     "iopub.status.idle": "2025-04-19T15:46:31.214329Z",
     "shell.execute_reply": "2025-04-19T15:46:31.213262Z"
    },
    "papermill": {
     "duration": 0.017783,
     "end_time": "2025-04-19T15:46:31.215711",
     "exception": false,
     "start_time": "2025-04-19T15:46:31.197928",
     "status": "completed"
    },
    "tags": []
   },
   "outputs": [
    {
     "name": "stdout",
     "output_type": "stream",
     "text": [
      "/kaggle/working\n",
      "['__notebook__.ipynb', 'gemini.pdf', 'EQ_Guidelines.pdf', 'Myanmar.pdf', 'Myanmar_SitRep.pdf']\n"
     ]
    }
   ],
   "source": [
    "# get the directory of uploaded files for later use\n",
    "\n",
    "import os\n",
    "# Check current working directory\n",
    "print(os.getcwd())\n",
    "\n",
    "# Print the list of files\n",
    "files = os.listdir()\n",
    "print(files)"
   ]
  },
  {
   "cell_type": "code",
   "execution_count": 20,
   "id": "a503c6c1",
   "metadata": {
    "execution": {
     "iopub.execute_input": "2025-04-19T15:46:31.236438Z",
     "iopub.status.busy": "2025-04-19T15:46:31.236106Z",
     "iopub.status.idle": "2025-04-19T15:46:31.476541Z",
     "shell.execute_reply": "2025-04-19T15:46:31.475662Z"
    },
    "papermill": {
     "duration": 0.252701,
     "end_time": "2025-04-19T15:46:31.478310",
     "exception": false,
     "start_time": "2025-04-19T15:46:31.225609",
     "status": "completed"
    },
    "tags": []
   },
   "outputs": [],
   "source": [
    "import fitz  # PyMuPDF\n",
    "from typing import List\n",
    "\n",
    "def extract_text_from_pdf(pdf_path: str) -> str:\n",
    "    text = \"\"\n",
    "    with fitz.open(pdf_path) as doc:\n",
    "        for page in doc:\n",
    "            text += page.get_text()\n",
    "    return text\n",
    "\n",
    "#TEST: Load and preview\n",
    "#kaggle_path = \"/kaggle/working/\"\n",
    "#pdf_path = kaggle_path+\"Myanmar_SitRep.pdf\"\n",
    "#raw_text = extract_text_from_pdf(pdf_path)\n",
    "#print(\"Preview:\", raw_text[:1000])"
   ]
  },
  {
   "cell_type": "code",
   "execution_count": 21,
   "id": "0fceabc8",
   "metadata": {
    "execution": {
     "iopub.execute_input": "2025-04-19T15:46:31.498518Z",
     "iopub.status.busy": "2025-04-19T15:46:31.498230Z",
     "iopub.status.idle": "2025-04-19T15:46:31.503502Z",
     "shell.execute_reply": "2025-04-19T15:46:31.502642Z"
    },
    "papermill": {
     "duration": 0.016981,
     "end_time": "2025-04-19T15:46:31.504930",
     "exception": false,
     "start_time": "2025-04-19T15:46:31.487949",
     "status": "completed"
    },
    "tags": []
   },
   "outputs": [],
   "source": [
    "# chunk size needs to adjust to 1300 to avoid resource exhause\n",
    "def chunk_text(text: str, chunk_size: int = 1300, overlap: int = 200) -> List[str]:\n",
    "    chunks = []\n",
    "    start = 0\n",
    "    while start < len(text):\n",
    "        end = start + chunk_size\n",
    "        chunks.append(text[start:end])\n",
    "        start = end - overlap\n",
    "    return chunks\n",
    "\n",
    "#TEST\n",
    "#doc_chunks = chunk_text(combined_text)\n",
    "#print(f\"Generated {len(doc_chunks)} chunks.\")"
   ]
  },
  {
   "cell_type": "code",
   "execution_count": 22,
   "id": "5b612dfd",
   "metadata": {
    "execution": {
     "iopub.execute_input": "2025-04-19T15:46:31.525717Z",
     "iopub.status.busy": "2025-04-19T15:46:31.525440Z",
     "iopub.status.idle": "2025-04-19T15:46:31.530907Z",
     "shell.execute_reply": "2025-04-19T15:46:31.529772Z"
    },
    "papermill": {
     "duration": 0.017441,
     "end_time": "2025-04-19T15:46:31.532447",
     "exception": false,
     "start_time": "2025-04-19T15:46:31.515006",
     "status": "completed"
    },
    "tags": []
   },
   "outputs": [],
   "source": [
    "import time\n",
    "def embed(text):\n",
    "    emb_response = client.models.embed_content(\n",
    "        model='models/text-embedding-004',\n",
    "        contents=text, \n",
    "        config=types.EmbedContentConfig(task_type='RETRIEVAL_DOCUMENT'))\n",
    "    time.sleep(1)  # Add a delay to avoid exceeding the rate limit\n",
    "    return emb_response.embeddings[0].values "
   ]
  },
  {
   "cell_type": "code",
   "execution_count": 23,
   "id": "0e080b5a",
   "metadata": {
    "execution": {
     "iopub.execute_input": "2025-04-19T15:46:31.552510Z",
     "iopub.status.busy": "2025-04-19T15:46:31.552189Z",
     "iopub.status.idle": "2025-04-19T15:46:31.809240Z",
     "shell.execute_reply": "2025-04-19T15:46:31.808248Z"
    },
    "papermill": {
     "duration": 0.269092,
     "end_time": "2025-04-19T15:46:31.811000",
     "exception": false,
     "start_time": "2025-04-19T15:46:31.541908",
     "status": "completed"
    },
    "tags": []
   },
   "outputs": [],
   "source": [
    "# preprocessing documents\n",
    "kaggle_path = \"/kaggle/working/\"\n",
    "overview_text = extract_text_from_pdf(kaggle_path+\"Myanmar.pdf\")\n",
    "sitrep_plan_text = extract_text_from_pdf(kaggle_path+\"Myanmar_SitRep.pdf\")\n",
    "guide_text = extract_text_from_pdf(kaggle_path+\"EQ_Guidelines.pdf\")\n",
    "combined_text = overview_text + \"\\n\\n\" + sitrep_plan_text + \"\\n\\n\" + guide_text"
   ]
  },
  {
   "cell_type": "code",
   "execution_count": 24,
   "id": "a96c7538",
   "metadata": {
    "execution": {
     "iopub.execute_input": "2025-04-19T15:46:31.830857Z",
     "iopub.status.busy": "2025-04-19T15:46:31.830525Z",
     "iopub.status.idle": "2025-04-19T15:50:10.198426Z",
     "shell.execute_reply": "2025-04-19T15:50:10.197431Z"
    },
    "papermill": {
     "duration": 218.388459,
     "end_time": "2025-04-19T15:50:10.208919",
     "exception": false,
     "start_time": "2025-04-19T15:46:31.820460",
     "status": "completed"
    },
    "tags": []
   },
   "outputs": [
    {
     "name": "stdout",
     "output_type": "stream",
     "text": [
      "Generated 183 chunks.\n",
      "Stored 183 chunks in Chroma vector DB. \n"
     ]
    }
   ],
   "source": [
    "# chunk documents, embed chunks and store in vectore database\n",
    "import chromadb\n",
    "\n",
    "DB_NAME = \"earthquake_docs\"\n",
    "\n",
    "chroma_client = chromadb.Client()\n",
    "db = chroma_client.get_or_create_collection(name=DB_NAME) \n",
    "\n",
    "# Load and chunk PDF\n",
    "doc_chunks = chunk_text(combined_text)\n",
    "print(f\"Generated {len(doc_chunks)} chunks.\")\n",
    "\n",
    "# Convert text chunks to embeddings and store\n",
    "for i, chunk in enumerate(doc_chunks):\n",
    "    emb = embed(chunk)\n",
    "    db.add(documents=[chunk], embeddings=[emb], ids=[f\"chunk_{i}\"])\n",
    "\n",
    "print(f\"Stored {len(doc_chunks)} chunks in Chroma vector DB. \")"
   ]
  },
  {
   "cell_type": "code",
   "execution_count": 25,
   "id": "68411ed7",
   "metadata": {
    "execution": {
     "iopub.execute_input": "2025-04-19T15:50:10.229304Z",
     "iopub.status.busy": "2025-04-19T15:50:10.228976Z",
     "iopub.status.idle": "2025-04-19T15:50:10.234114Z",
     "shell.execute_reply": "2025-04-19T15:50:10.233133Z"
    },
    "papermill": {
     "duration": 0.017087,
     "end_time": "2025-04-19T15:50:10.235553",
     "exception": false,
     "start_time": "2025-04-19T15:50:10.218466",
     "status": "completed"
    },
    "tags": []
   },
   "outputs": [],
   "source": [
    "def retrieve_relevant_chunks(query: str, top_k=12): #top-k is picked for\n",
    "    query_emb = embed(query)\n",
    "    results = db.query(\n",
    "        query_embeddings=[query_emb],\n",
    "        n_results=top_k,\n",
    "        include=[\"documents\"]\n",
    "    )\n",
    "    return results[\"documents\"][0] # Accessing the retrieved documents"
   ]
  },
  {
   "cell_type": "code",
   "execution_count": 26,
   "id": "bc5995c1",
   "metadata": {
    "execution": {
     "iopub.execute_input": "2025-04-19T15:50:10.256143Z",
     "iopub.status.busy": "2025-04-19T15:50:10.255827Z",
     "iopub.status.idle": "2025-04-19T15:50:12.036235Z",
     "shell.execute_reply": "2025-04-19T15:50:12.035322Z"
    },
    "papermill": {
     "duration": 1.792516,
     "end_time": "2025-04-19T15:50:12.037710",
     "exception": false,
     "start_time": "2025-04-19T15:50:10.245194",
     "status": "completed"
    },
    "tags": []
   },
   "outputs": [
    {
     "data": {
      "text/markdown": [
       "The areas severely affected by the earthquake are Mandalay Region, Nay Pyi Taw Union Territory, Sagaing Region, and southern Shan State. To a lesser extent, Bago Region, Magway Region, and eastern Shan State were also affected.\n"
      ],
      "text/plain": [
       "<IPython.core.display.Markdown object>"
      ]
     },
     "execution_count": 26,
     "metadata": {},
     "output_type": "execute_result"
    }
   ],
   "source": [
    "def ask_rag(query):\n",
    "    top_docs = retrieve_relevant_chunks(query)\n",
    "    context = \"\\n\\n\".join(top_docs)\n",
    "\n",
    "    rag_prompt = f\"\"\"\n",
    "    You are a disaster response analyst. Use the following retrieved document excerpts to answer the query:\n",
    "    --- DOCUMENT CONTEXT START ---\n",
    "    {context}\n",
    "    --- DOCUMENT CONTEXT END ---\n",
    "    Answer this query in a clear and concise way: {query}\n",
    "    \"\"\"\n",
    "    rag_response = client.models.generate_content(\n",
    "        model='gemini-2.0-flash',\n",
    "        contents=[rag_prompt])\n",
    "    return Markdown(rag_response.text)\n",
    "\n",
    "# Test if the model can answer the question correctly using RAG\n",
    "ask_rag(\"What areas are affected by the earthquake? \")"
   ]
  },
  {
   "cell_type": "markdown",
   "id": "cf5d64d2",
   "metadata": {
    "papermill": {
     "duration": 0.009894,
     "end_time": "2025-04-19T15:50:12.057481",
     "exception": false,
     "start_time": "2025-04-19T15:50:12.047587",
     "status": "completed"
    },
    "tags": []
   },
   "source": [
    "## 5. Generate structured crisis response plans (RAG，Structured output/JSON mode)\n",
    "We use a RAG approach to generate an earthquake response plan based on three uploaded documents:\n",
    "- The 2025 Myanmar Earthquake Disaster Brief from IFRC\n",
    "- The Myanmar Earthquake Situation Report and Response Plan from the UN\n",
    "- An Earthquake Response Guideline from IFRC\n",
    "\n",
    "The function below not only generates a detailed response plan but also outputs a structured summary in JSON format."
   ]
  },
  {
   "cell_type": "code",
   "execution_count": 27,
   "id": "f3384f54",
   "metadata": {
    "execution": {
     "iopub.execute_input": "2025-04-19T15:50:12.078564Z",
     "iopub.status.busy": "2025-04-19T15:50:12.077677Z",
     "iopub.status.idle": "2025-04-19T15:50:20.117760Z",
     "shell.execute_reply": "2025-04-19T15:50:20.116789Z"
    },
    "papermill": {
     "duration": 8.052116,
     "end_time": "2025-04-19T15:50:20.119161",
     "exception": false,
     "start_time": "2025-04-19T15:50:12.067045",
     "status": "completed"
    },
    "tags": []
   },
   "outputs": [
    {
     "name": "stdout",
     "output_type": "stream",
     "text": [
      "Full Response Plan:\n"
     ]
    },
    {
     "data": {
      "text/markdown": [
       "## Earthquake Response Plan for Myanmar\n",
       "\n",
       "This plan outlines the immediate response to the earthquake in Myanmar, focusing on affected areas, rescue priorities, coordination, resource needs, and identified gaps.\n",
       "\n",
       "**Affected Areas:**\n",
       "\n",
       "*   Sagaing\n",
       "*   Mandalay\n",
       "*   Nay Pyi Taw Union Territory\n",
       "*   Bago\n",
       "*   Pyay\n",
       "*   Yedashe\n",
       "*   Taungoo\n",
       "    These regions have experienced widespread destruction, including collapsed buildings and damaged infrastructure.\n",
       "\n",
       "**Rescue & Response Priorities:**\n",
       "\n",
       "1.  **Search and Rescue:** Although the response is shifting to recovery, continue to identify anyone who remains in the rubble.\n",
       "2.  **Medical Assistance:**\n",
       "    *   Address critical shortages of life- and limb-saving medical supplies in affected areas.\n",
       "    *   Support hospitals in Mandalay and Naypyidaw, which are overwhelmed with injured people and lack resources.\n",
       "3.  **Emergency Shelter:**\n",
       "    *   Provide safe emergency shelter, considering the pre-crisis shortage and the additional needs created by the earthquake.\n",
       "    *   Address the needs of those sheltering in public buildings, where hygiene facilities are inadequate.\n",
       "4.  **Food and Water:**\n",
       "    *   Ensure access to food and drinking water, which are urgent priorities.\n",
       "    *   Protect food stocks from heavy rain and flooding.\n",
       "5.  **WASH (Water, Sanitation, and Hygiene):**\n",
       "    *   Address WASH needs, especially in displacement settings.\n",
       "    *   Ensure safe and gender-sensitive WASH facilities to mitigate risks to women and girls.\n",
       "6.  **Protection:**\n",
       "    *   Scale up prevention and response activities, including the distribution of dignity kits.\n",
       "    *   Establish safe spaces.\n",
       "    *   Deploy mobile psychosocial support teams.\n",
       "    *   Disseminate community-based messaging on protection, including explosive ordnance risks, child protection, and GBV mitigation.\n",
       "7.  **Mental Health and Psychosocial Support (MHPSS):**\n",
       "    *   Provide MHPSS services through online support, helplines, trained professionals, and field interventions.\n",
       "8.  **Education in Emergencies:**\n",
       "    *   Distribute critical education-in-emergency supplies, such as roofing sheets and learning materials.\n",
       "\n",
       "**Coordination Roles:**\n",
       "\n",
       "*   **Logistics Cluster:** Coordinate with humanitarian partners to assess capacity and requirements for transportation and storage.\n",
       "*   **Nutrition Cluster:** Coordinate with partners on the ground to assess and respond to emerging needs.\n",
       "*   **Protection Cluster:** Reinforce referral pathways through coordinated efforts with local actors and service providers.\n",
       "*   **Mine Action Area of Responsibility:** Develop earthquake-specific risk education messages for broad dissemination.\n",
       "*   **Humanitarian partners:** All partners should participate in needs assessments and provide assistance in their respective areas of expertise.\n",
       "*   **Local governments, councils, and authorities:** Coordination with local entities should be strengthened to support their response.\n",
       "\n",
       "**Resource Needs:**\n",
       "\n",
       "*   **Financial Assistance:** Pledges from donors are needed to fund the response.\n",
       "*   **Medical Supplies:** Critical shortages of life- and limb-saving medical supplies need to be addressed.\n",
       "*   **Shelter Materials:** Roofing sheets and other materials are needed to repair damaged schools and homes.\n",
       "*   **Food and Water:** Food and drinking water are urgent priorities.\n",
       "*   **Dignity Kits and Women’s Essential Kits:** These kits are needed to support affected women and girls.\n",
       "*   **Transportation and Storage:** Capacity for transportation and storage is needed, especially in Mandalay, Nay Pyi Taw, and Yangon.\n",
       "\n",
       "**Gaps & Recommendations:**\n",
       "\n",
       "*   **Unmet Needs:** 47% of those assessed have yet to receive any form of assistance.\n",
       "*   **Access Challenges:** Damaged road infrastructure, movement restrictions, and lengthy import procedures are hindering response efforts.\n",
       "*   **Hygiene Facilities:** Inadequate hygiene facilities in displacement sites pose risks to women and children.\n",
       "*   **Information Dissemination:** Ensure affected people receive timely and life-saving information.\n",
       "*   **Funding Shortages:** Persistent underfunding limits the ability of development actors to implement disaster risk reduction (DRR) and community resilience work.\n",
       "*   **Coordination with Local Governments:** Strengthen coordination with local governments, councils, and authorities.\n",
       "*   **Prioritize Restoration:** Restore existing infrastructure, systems, and services on a priority basis to support the emergency response.\n",
       "*   **Advocacy:** Advocate with local governments and other actors on common approaches, guidelines, and policies for the recovery process.\n",
       "\n",
       "## JSON Summary:\n",
       "\n",
       "```json\n",
       "{\n",
       "  \"areas_affected\": [\n",
       "    \"Sagaing\",\n",
       "    \"Mandalay\",\n",
       "    \"Nay Pyi Taw Union Territory\",\n",
       "    \"Bago\",\n",
       "    \"Pyay\",\n",
       "    \"Yedashe\",\n",
       "    \"Taungoo\"\n",
       "  ],\n",
       "  \"injuries\": [\n",
       "    \"Trauma injuries\",\n",
       "    \"Illnesses due to lack of sanitation and clean water\",\n",
       "    \"Psychological distress\"\n",
       "  ],\n",
       "  \"priority_actions\": [\n",
       "    \"Search and rescue\",\n",
       "    \"Provide medical assistance\",\n",
       "    \"Establish emergency shelter\",\n",
       "    \"Ensure access to food and water\",\n",
       "    \"Address WASH needs\",\n",
       "    \"Provide protection\",\n",
       "    \"Provide mental health and psychosocial support\",\n",
       "    \"Address education in emergencies\"\n",
       "  ],\n",
       "  \"resources_needed\": [\n",
       "    \"Financial assistance\",\n",
       "    \"Medical supplies\",\n",
       "    \"Shelter materials\",\n",
       "    \"Food and water\",\n",
       "    \"Dignity kits and women’s essential kits\",\n",
       "    \"Transportation and storage capacity\"\n",
       "  ],\n",
       "  \"coordination_roles\": [\n",
       "    \"Logistics Cluster\",\n",
       "    \"Nutrition Cluster\",\n",
       "    \"Protection Cluster\",\n",
       "    \"Mine Action Area of Responsibility\",\n",
       "    \"Humanitarian partners\",\n",
       "    \"Local governments, councils, and authorities\"\n",
       "  ],\n",
       "  \"gaps\": [\n",
       "    \"Unmet needs of affected population\",\n",
       "    \"Access challenges due to damaged infrastructure and restrictions\",\n",
       "    \"Inadequate hygiene facilities in displacement sites\",\n",
       "    \"Insufficient information dissemination\",\n",
       "    \"Funding shortages\",\n",
       "    \"Coordination gaps with local governments\"\n",
       "  ]\n",
       "}\n",
       "```\n"
      ],
      "text/plain": [
       "<IPython.core.display.Markdown object>"
      ]
     },
     "execution_count": 27,
     "metadata": {},
     "output_type": "execute_result"
    }
   ],
   "source": [
    "def generate_response_plan_rag(user_query):\n",
    "    # 1. Retrieve most relevant chunks using similarity search\n",
    "    retrieved_chunks = retrieve_relevant_chunks(user_query)\n",
    "    context = \"\\n\\n\".join(retrieved_chunks)\n",
    "\n",
    "    # 2. Build the RAG prompt\n",
    "    resp_prompt = f\"\"\"\n",
    "    You are a disaster response expert.\n",
    "    Using the retrieved Disaster overview, SitRep and Response Plan \n",
    "    and Earthquake response guideline context below, answer the query in a \n",
    "    structured and clear format. Then output a structured JSON summary.\n",
    "\n",
    "    ### Context:\n",
    "    {context}\n",
    "\n",
    "    ### User Query:\n",
    "    {user_query}\n",
    "\n",
    "    ### Instructions:\n",
    "    1. Address:\n",
    "      - Affected areas\n",
    "      - Rescue & response priorities\n",
    "      - Coordination roles\n",
    "      - Resource needs\n",
    "      - Gaps & recommendations\n",
    "\n",
    "    2. Then give a summary in the following JSON format:\n",
    "    {{\n",
    "      \"areas_affected\": [],\n",
    "      \"injuries\": [],\n",
    "      \"priority_actions\": [],\n",
    "      \"resources_needed\": [],\n",
    "      \"coordination_roles\": [],\n",
    "      \"gaps\": []\n",
    "    }}\n",
    "\n",
    "    ### Response:\n",
    "    \"\"\"\n",
    "\n",
    "    response = client.models.generate_content(\n",
    "        model='gemini-2.0-flash',\n",
    "        contents=[resp_prompt])\n",
    "\n",
    "    return response.text\n",
    "\n",
    "# Test：Example \n",
    "user_query = \"Generate an earthquake response plan for affected regions in Myanmar based on the documents.\"\n",
    "response_text = generate_response_plan_rag(user_query)\n",
    "print(\"Full Response Plan:\")\n",
    "Markdown(response_text)"
   ]
  },
  {
   "cell_type": "markdown",
   "id": "9a51865f",
   "metadata": {
    "papermill": {
     "duration": 0.009757,
     "end_time": "2025-04-19T15:50:20.139412",
     "exception": false,
     "start_time": "2025-04-19T15:50:20.129655",
     "status": "completed"
    },
    "tags": []
   },
   "source": [
    "## Future Work\n",
    "- Enhance the file upload feature to allow users to upload various disaster-related documents, enabling the generation of crisis response plans beyond the 2025 Myanmar Earthquake scenario—making the tool adaptable to any disaster context.\n",
    "- Extend the generate_response_plan_rag(user_query) function to also support response plan generation based on simulated disaster scenarios created in Section 1, together with social media simulation in Section 3 as part of inputs.\n",
    "- Introduce user role selection (e.g., policymaker, field responder, NGO planner) with a simple UI, so the generated plan can be tailored based on the role's perspective and needs.\n",
    "- Experiment with alternative prompting strategies and few-shot examples to further improve response relevance, accuracy, and structure.\n",
    "- Integrate GenAI evaluation techniques to automatically assess the quality and usefulness of the generated plans based on predefined criteria.\n",
    "- Set up continuous evaluation and improvement pipelines using MLOps tools to monitor performance, update embeddings, and track document relevance over time.\n",
    "- (Will be interesting to have) Generate visual displays like interactive response timelines or affected regions."
   ]
  }
 ],
 "metadata": {
  "kaggle": {
   "accelerator": "none",
   "dataSources": [],
   "dockerImageVersionId": 31012,
   "isGpuEnabled": false,
   "isInternetEnabled": true,
   "language": "python",
   "sourceType": "notebook"
  },
  "kernelspec": {
   "display_name": "Python 3",
   "language": "python",
   "name": "python3"
  },
  "language_info": {
   "codemirror_mode": {
    "name": "ipython",
    "version": 3
   },
   "file_extension": ".py",
   "mimetype": "text/x-python",
   "name": "python",
   "nbconvert_exporter": "python",
   "pygments_lexer": "ipython3",
   "version": "3.11.11"
  },
  "papermill": {
   "default_parameters": {},
   "duration": 350.603037,
   "end_time": "2025-04-19T15:50:21.373593",
   "environment_variables": {},
   "exception": null,
   "input_path": "__notebook__.ipynb",
   "output_path": "__notebook__.ipynb",
   "parameters": {},
   "start_time": "2025-04-19T15:44:30.770556",
   "version": "2.6.0"
  }
 },
 "nbformat": 4,
 "nbformat_minor": 5
}
